{
  "nbformat": 4,
  "nbformat_minor": 0,
  "metadata": {
    "colab": {
      "name": "Welcome To Colaboratory",
      "provenance": [],
      "collapsed_sections": [],
      "include_colab_link": true
    },
    "kernelspec": {
      "display_name": "Python 3",
      "name": "python3"
    }
  },
  "cells": [
    {
      "cell_type": "markdown",
      "metadata": {
        "id": "view-in-github",
        "colab_type": "text"
      },
      "source": [
        "<a href=\"https://colab.research.google.com/github/Manju1608/python-assignment_11/blob/master/Assignment11_copy_file_content%20.ipynb\" target=\"_parent\"><img src=\"https://colab.research.google.com/assets/colab-badge.svg\" alt=\"Open In Colab\"/></a>"
      ]
    },
    {
      "cell_type": "code",
      "metadata": {
        "id": "pB5sN87-JXwX",
        "colab_type": "code",
        "colab": {
          "base_uri": "https://localhost:8080/",
          "height": 149
        },
        "outputId": "8f6c8ea5-ce93-461e-8f0b-ae67ceca46f6"
      },
      "source": [
        " with open(\"sample.txt\") as f:    with open(\"sample1.txt\", \"w\") as f1:        for line in f:            f1.write(line)f=open(\"sample.txt\")print(\"this content of old file\")print(f.read())print(\"this the content of copied file\")f1=open(\"sample1.txt\")print(f1.read())"
      ],
      "execution_count": 3,
      "outputs": [
        {
          "output_type": "error",
          "ename": "SyntaxError",
          "evalue": "ignored",
          "traceback": [
            "\u001b[0;36m  File \u001b[0;32m\"<ipython-input-3-085825dea518>\"\u001b[0;36m, line \u001b[0;32m1\u001b[0m\n\u001b[0;31m    with open(\"sample.txt\") as f:    with open(\"sample1.txt\", \"w\") as f1:        for line in f:            f1.write(line)f=open(\"sample.txt\")print(\"this content of old file\")print(f.read())print(\"this the content of copied file\")f1=open(\"sample1.txt\")print(f1.read())\u001b[0m\n\u001b[0m                                        ^\u001b[0m\n\u001b[0;31mSyntaxError\u001b[0m\u001b[0;31m:\u001b[0m invalid syntax\n"
          ]
        }
      ]
    }
  ]
}